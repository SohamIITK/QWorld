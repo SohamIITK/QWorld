{
  "cells": [
    {
      "cell_type": "markdown",
      "metadata": {
        "id": "view-in-github",
        "colab_type": "text"
      },
      "source": [
        "<a href=\"https://colab.research.google.com/github/SohamIITK/QWorld/blob/main/QB42_Q88_Grovers_Search_One_Qubit_Representation.ipynb\" target=\"_parent\"><img src=\"https://colab.research.google.com/assets/colab-badge.svg\" alt=\"Open In Colab\"/></a>"
      ]
    },
    {
      "cell_type": "markdown",
      "metadata": {
        "id": "IF8UphbpUzcn"
      },
      "source": [
        "<a href=\"https://qworld.net\" target=\"_blank\" align=\"left\"><img src=\"https://gitlab.com/qworld/qeducation/qbook101/raw/main/qworld/images/header.jpg\" align=\"left\"></a>\n",
        "$ \\newcommand{\\bra}[1]{\\langle #1|} $\n",
        "$ \\newcommand{\\ket}[1]{|#1\\rangle} $\n",
        "$ \\newcommand{\\braket}[2]{\\langle #1|#2\\rangle} $\n",
        "$ \\newcommand{\\dot}[2]{ #1 \\cdot #2} $\n",
        "$ \\newcommand{\\biginner}[2]{\\left\\langle #1,#2\\right\\rangle} $\n",
        "$ \\newcommand{\\mymatrix}[2]{\\left( \\begin{array}{#1} #2\\end{array} \\right)} $\n",
        "$ \\newcommand{\\myvector}[1]{\\mymatrix{c}{#1}} $\n",
        "$ \\newcommand{\\myrvector}[1]{\\mymatrix{r}{#1}} $\n",
        "$ \\newcommand{\\mypar}[1]{\\left( #1 \\right)} $\n",
        "$ \\newcommand{\\mybigpar}[1]{ \\Big( #1 \\Big)} $\n",
        "$ \\newcommand{\\sqrttwo}{\\frac{1}{\\sqrt{2}}} $\n",
        "$ \\newcommand{\\dsqrttwo}{\\dfrac{1}{\\sqrt{2}}} $\n",
        "$ \\newcommand{\\onehalf}{\\frac{1}{2}} $\n",
        "$ \\newcommand{\\donehalf}{\\dfrac{1}{2}} $\n",
        "$ \\newcommand{\\hadamard}{ \\mymatrix{rr}{ \\sqrttwo & \\sqrttwo \\\\ \\sqrttwo & -\\sqrttwo }} $\n",
        "$ \\newcommand{\\vzero}{\\myvector{1\\\\0}} $\n",
        "$ \\newcommand{\\vone}{\\myvector{0\\\\1}} $\n",
        "$ \\newcommand{\\stateplus}{\\myvector{ \\sqrttwo \\\\  \\sqrttwo } } $\n",
        "$ \\newcommand{\\stateminus}{ \\myrvector{ \\sqrttwo \\\\ -\\sqrttwo } } $\n",
        "$ \\newcommand{\\myarray}[2]{ \\begin{array}{#1}#2\\end{array}} $\n",
        "$ \\newcommand{\\X}{ \\mymatrix{cc}{0 & 1 \\\\ 1 & 0}  } $\n",
        "$ \\newcommand{\\I}{ \\mymatrix{rr}{1 & 0 \\\\ 0 & 1}  } $\n",
        "$ \\newcommand{\\Z}{ \\mymatrix{rr}{1 & 0 \\\\ 0 & -1}  } $\n",
        "$ \\newcommand{\\Htwo}{ \\mymatrix{rrrr}{ \\frac{1}{2} & \\frac{1}{2} & \\frac{1}{2} & \\frac{1}{2} \\\\ \\frac{1}{2} & -\\frac{1}{2} & \\frac{1}{2} & -\\frac{1}{2} \\\\ \\frac{1}{2} & \\frac{1}{2} & -\\frac{1}{2} & -\\frac{1}{2} \\\\ \\frac{1}{2} & -\\frac{1}{2} & -\\frac{1}{2} & \\frac{1}{2} } } $\n",
        "$ \\newcommand{\\CNOT}{ \\mymatrix{cccc}{1 & 0 & 0 & 0 \\\\ 0 & 1 & 0 & 0 \\\\ 0 & 0 & 0 & 1 \\\\ 0 & 0 & 1 & 0} } $\n",
        "$ \\newcommand{\\norm}[1]{ \\left\\lVert #1 \\right\\rVert } $\n",
        "$ \\newcommand{\\pstate}[1]{ \\lceil \\mspace{-1mu} #1 \\mspace{-1.5mu} \\rfloor } $\n",
        "$ \\newcommand{\\greenbit}[1] {\\mathbf{{\\color{green}#1}}} $\n",
        "$ \\newcommand{\\bluebit}[1] {\\mathbf{{\\color{blue}#1}}} $\n",
        "$ \\newcommand{\\redbit}[1] {\\mathbf{{\\color{red}#1}}} $\n",
        "$ \\newcommand{\\brownbit}[1] {\\mathbf{{\\color{brown}#1}}} $\n",
        "$ \\newcommand{\\blackbit}[1] {\\mathbf{{\\color{black}#1}}} $"
      ]
    },
    {
      "cell_type": "markdown",
      "metadata": {
        "id": "GxpzAOglUzcq"
      },
      "source": [
        "_prepared by Abuzer Yakaryilmaz_"
      ]
    },
    {
      "cell_type": "markdown",
      "metadata": {
        "id": "hqrnoL24Uzcq"
      },
      "source": [
        "<font size=\"28px\" style=\"font-size:28px;\" align=\"left\"><b> Grover's Search: One Qubit Representation </b></font>\n",
        "<br>\n",
        "<br><br>\n",
        "[<img src=\"https://gitlab.com/qworld/qeducation/qbook101/raw/main/qworld/images/watch_lecture.jpg\" align=\"left\">](https://youtu.be/VwzshIQsDBA)\n",
        "<br><br><br>"
      ]
    },
    {
      "cell_type": "markdown",
      "metadata": {
        "jp-MarkdownHeadingCollapsed": true,
        "id": "37-KekcJUzcq"
      },
      "source": [
        "##### <font color=\"#08b806\">Please execute the following cell, it is necessary to distinguish between your local environment and Google Colab's"
      ]
    },
    {
      "cell_type": "code",
      "execution_count": null,
      "metadata": {
        "id": "hUqonphWUzcq",
        "colab": {
          "base_uri": "https://localhost:8080/"
        },
        "outputId": "5e9b5d5a-9759-4113-fc32-a225a525c738"
      },
      "outputs": [
        {
          "output_type": "stream",
          "name": "stdout",
          "text": [
            "--2024-05-05 09:15:59--  https://gitlab.com/qworld/qeducation/qbook101/raw/main/qworld/include/quantum.py\n",
            "Resolving gitlab.com (gitlab.com)... 172.65.251.78, 2606:4700:90:0:f22e:fbec:5bed:a9b9\n",
            "Connecting to gitlab.com (gitlab.com)|172.65.251.78|:443... connected.\n",
            "HTTP request sent, awaiting response... 200 OK\n",
            "Length: 2760 (2.7K) [text/plain]\n",
            "Saving to: ‘quantum.py’\n",
            "\n",
            "quantum.py          100%[===================>]   2.70K  --.-KB/s    in 0s      \n",
            "\n",
            "2024-05-05 09:15:59 (34.2 MB/s) - ‘quantum.py’ saved [2760/2760]\n",
            "\n",
            "--2024-05-05 09:15:59--  https://gitlab.com/qworld/qeducation/qbook101/raw/main/qworld/include/drawing.py\n",
            "Resolving gitlab.com (gitlab.com)... 172.65.251.78, 2606:4700:90:0:f22e:fbec:5bed:a9b9\n",
            "Connecting to gitlab.com (gitlab.com)|172.65.251.78|:443... connected.\n",
            "HTTP request sent, awaiting response... 200 OK\n",
            "Length: 6260 (6.1K) [text/plain]\n",
            "Saving to: ‘drawing.py’\n",
            "\n",
            "drawing.py          100%[===================>]   6.11K  --.-KB/s    in 0s      \n",
            "\n",
            "2024-05-05 09:15:59 (72.0 MB/s) - ‘drawing.py’ saved [6260/6260]\n",
            "\n",
            "--2024-05-05 09:15:59--  https://gitlab.com/qworld/qeducation/qbook101/raw/main/qworld/include/quantum_state.py\n",
            "Resolving gitlab.com (gitlab.com)... 172.65.251.78, 2606:4700:90:0:f22e:fbec:5bed:a9b9\n",
            "Connecting to gitlab.com (gitlab.com)|172.65.251.78|:443... connected.\n",
            "HTTP request sent, awaiting response... 200 OK\n",
            "Length: 1391 (1.4K) [text/plain]\n",
            "Saving to: ‘quantum_state.py’\n",
            "\n",
            "quantum_state.py    100%[===================>]   1.36K  --.-KB/s    in 0s      \n",
            "\n",
            "2024-05-05 09:16:00 (20.6 MB/s) - ‘quantum_state.py’ saved [1391/1391]\n",
            "\n",
            "--2024-05-05 09:16:00--  https://gitlab.com/qworld/qeducation/qbook101/raw/main/qworld/include/grover.py\n",
            "Resolving gitlab.com (gitlab.com)... 172.65.251.78, 2606:4700:90:0:f22e:fbec:5bed:a9b9\n",
            "Connecting to gitlab.com (gitlab.com)|172.65.251.78|:443... connected.\n",
            "HTTP request sent, awaiting response... 200 OK\n",
            "Length: 6778 (6.6K) [text/plain]\n",
            "Saving to: ‘grover.py’\n",
            "\n",
            "grover.py           100%[===================>]   6.62K  --.-KB/s    in 0s      \n",
            "\n",
            "2024-05-05 09:16:00 (47.0 MB/s) - ‘grover.py’ saved [6778/6778]\n",
            "\n"
          ]
        }
      ],
      "source": [
        "import IPython\n",
        "\n",
        "def in_colab():\n",
        "    try:\n",
        "        import google.colab\n",
        "        return True\n",
        "    except:\n",
        "        return False\n",
        "\n",
        "path_files = \"./\" if in_colab() else \"../qworld/include/\"\n",
        "\n",
        "SolutionToTask1 = lambda: IPython.display.display(IPython.display.Javascript('window.open(\"{url}\");'.format(url='https://colab.research.google.com/drive/13VtI-5nwRQUsF1ZYCundQniWP9Z7oJoP?usp=sharing#scrollTo=xkM_yjnNTakO' if in_colab() else 'QB42_Q88_Grovers_Search_One_Qubit_Representation_Solutions.ipynb#task1')))\n",
        "SolutionToTask2 = lambda: IPython.display.display(IPython.display.Javascript('window.open(\"{url}\");'.format(url='https://colab.research.google.com/drive/13VtI-5nwRQUsF1ZYCundQniWP9Z7oJoP?usp=sharing#scrollTo=3kZ-rE2BTakP' if in_colab() else 'QB42_Q88_Grovers_Search_One_Qubit_Representation_Solutions.ipynb#task2')))\n",
        "SolutionToTask3 = lambda: IPython.display.display(IPython.display.Javascript('window.open(\"{url}\");'.format(url='https://colab.research.google.com/drive/13VtI-5nwRQUsF1ZYCundQniWP9Z7oJoP?usp=sharing#scrollTo=ljHT0lgrTakP' if in_colab() else 'QB42_Q88_Grovers_Search_One_Qubit_Representation_Solutions.ipynb#task3')))\n",
        "SolutionToTask4 = lambda: IPython.display.display(IPython.display.Javascript('window.open(\"{url}\");'.format(url='https://colab.research.google.com/drive/13VtI-5nwRQUsF1ZYCundQniWP9Z7oJoP?usp=sharing#scrollTo=OHKCyIESTakP' if in_colab() else 'QB42_Q88_Grovers_Search_One_Qubit_Representation_Solutions.ipynb#task4')))\n",
        "\n",
        "if in_colab():\n",
        "    url = \"https://gitlab.com/qworld/qeducation/qbook101/raw/main/qworld/include/quantum.py\"\n",
        "    !wget --no-cache -O quantum.py {url}\n",
        "\n",
        "    url = \"https://gitlab.com/qworld/qeducation/qbook101/raw/main/qworld/include/drawing.py\"\n",
        "    !wget --no-cache -O drawing.py {url}\n",
        "\n",
        "    url = \"https://gitlab.com/qworld/qeducation/qbook101/raw/main/qworld/include/quantum_state.py\"\n",
        "    !wget --no-cache -O quantum_state.py {url}\n",
        "\n",
        "    url = \"https://gitlab.com/qworld/qeducation/qbook101/raw/main/qworld/include/grover.py\"\n",
        "    !wget --no-cache -O grover.py {url}"
      ]
    },
    {
      "cell_type": "markdown",
      "metadata": {
        "id": "1ejMzHvDUzcq"
      },
      "source": [
        "##### The execution of Grover's search algorithm can be simulated on the unit circle.\n",
        "\n",
        "Throughout the computation, the amplitudes of the marked (or unmarked) elements never differ from each other. Therefore, we can group the elements as marked and unmarked elements.\n",
        "\n",
        "As the length of the list is 1, we can represent the list as an unit vector on the unit circle where the vertical line ($y$-axis) represents the marked elements and horizontal line ($x$-axis) represents the unmarked elements.\n",
        "\n",
        "We draw an example unit circle by using python below."
      ]
    },
    {
      "cell_type": "code",
      "execution_count": null,
      "metadata": {
        "id": "ZjxRdqvIUzcr",
        "colab": {
          "base_uri": "https://localhost:8080/",
          "height": 367
        },
        "outputId": "a95a1bf2-9625-4065-d8b7-b5b3d4f4dd1a"
      },
      "outputs": [
        {
          "output_type": "display_data",
          "data": {
            "text/plain": [
              "<Figure size 420x420 with 1 Axes>"
            ],
            "image/png": "[encoded data removed]"
          },
          "metadata": {}
        }
      ],
      "source": [
        "quantum_file = path_files+\"quantum.py\"\n",
        "%run $quantum_file\n",
        "\n",
        "draw_qubit_grover()\n",
        "draw_quantum_state((7/8)**0.5,(1/8)**0.5,\"|u>\")\n",
        "show_plt()"
      ]
    },
    {
      "cell_type": "markdown",
      "metadata": {
        "id": "K6HY0ZAaUzcr"
      },
      "source": [
        "### Example: N = 8 with 3 marked elements"
      ]
    },
    {
      "cell_type": "markdown",
      "metadata": {
        "id": "hO064QcOUzcr"
      },
      "source": [
        "Suppose that the 3rd, 4th, and 7th elements are marked. We can use three qubits and we can associate each element with one of basis states:\n",
        "\n",
        "$$ \\myarray{|c|c|}{\n",
        "\\hline element & state \\\\ \\hline\n",
        "1st & \\ket{000} \\\\ \\hline\n",
        "2nd & \\ket{001} \\\\ \\hline\n",
        "\\mathbf{3rd} & \\mathbf{\\ket{010}} \\\\ \\hline\n",
        "\\mathbf{4th} & \\mathbf{\\ket{011}} \\\\ \\hline\n",
        "5th & \\ket{100} \\\\ \\hline\n",
        "6th & \\ket{101} \\\\ \\hline\n",
        "\\mathbf{7th} & \\mathbf{\\ket{110}} \\\\ \\hline\n",
        "8th & \\ket{111} \\\\ \\hline\n",
        "} $$\n",
        "\n",
        "Grover's search algorithm starts in the following quantum state:\n",
        "\n",
        "$$ \\ket{u} =  H\\ket{0} \\otimes H \\ket{0} \\otimes H \\ket{0} = H^{\\otimes 3} \\ket{000} $$\n",
        "\n",
        "$$ \\ket{u} =  \\mypar{ \\frac{1}{\\sqrt{2}} \\ket{0} + \\frac{1}{\\sqrt{2}} \\ket{1}  } \\otimes\n",
        "    \\mypar{ \\frac{1}{\\sqrt{2}} \\ket{0} + \\frac{1}{\\sqrt{2}} \\ket{1}  } \\otimes\n",
        "    \\mypar{ \\frac{1}{\\sqrt{2}} \\ket{0} + \\frac{1}{\\sqrt{2}} \\ket{1}  } $$\n",
        "\n",
        "$$ \\ket{u} = \\frac{1}{2\\sqrt{2}} \\ket{000} +  \\frac{1}{2\\sqrt{2}} \\ket{001} +  \\frac{1}{2\\sqrt{2}} \\ket{010} +  \\frac{1}{2\\sqrt{2}} \\ket{011} +  \\frac{1}{2\\sqrt{2}} \\ket{100} +  \\frac{1}{2\\sqrt{2}} \\ket{101} +  \\frac{1}{2\\sqrt{2}} \\ket{110} +  \\frac{1}{2\\sqrt{2}} \\ket{111}.  $$\n",
        "\n",
        "We group them as unmarked and marked elements:\n",
        "\n",
        "$$ \\ket{u} =\n",
        "    \\underbrace{ \\frac{1}{2\\sqrt{2}} \\big( \\ket{000} + \\ket{001} + \\ket{100} + \\ket{101} + \\ket{111} \\big) }_{\\ket{u_{x}}}  +\n",
        "    \\underbrace{ \\frac{1}{2\\sqrt{2}}  \\big(\\mathbf{  \\ket{010} + \\ket{011} + \\ket{110} } \\big) }_{\\ket{u_{y}}}\n",
        "$$\n",
        "\n",
        "or as vectors\n",
        "\n",
        "$$ \\ket{u} = \\ket{u_{x}} + \\ket{u_{y}} =\n",
        "     \\frac{1}{2\\sqrt{2}} \\myvector{1 \\\\ 1 \\\\ 0 \\\\ 0 \\\\ 1 \\\\ 1 \\\\ 0 \\\\ 1}\n",
        "    + \\frac{1}{2\\sqrt{2}}  \\myvector{0 \\\\ 0 \\\\ 1 \\\\ 1 \\\\ 0 \\\\ 0 \\\\ 1 \\\\ 0}   \n",
        "$$\n",
        "\n",
        "How can we represent this state on the unit circle?"
      ]
    },
    {
      "cell_type": "markdown",
      "metadata": {
        "id": "D9-FwsCiUzcr"
      },
      "source": [
        "#### Orthogonality of $ \\ket{u_{x}} $ and $ \\ket{u_{y}} $\n",
        "\n",
        "It is clear that the quantum states $ \\ket{u_{x}} $ and $ \\ket{u_{y}} $ are orthogonal to each other, i.e., the pairwise multiplication of entries result in zero and so their summation is also zero: $ \\ket{u_{unmarked}} \\perp \\ket{u_{marked}} $.\n",
        "\n",
        "On the unit circle, the state $ \\ket{0} $ and $ \\ket{1} $ are orthogonal to each other, and so, we can represent (map) $ \\ket{u} = \\ket{u_{x}} + \\ket{u_{y}} $ on the unit circle as\n",
        "\n",
        "$$ \\ket{u} \\rightarrow \\alpha \\ket{0} + \\beta \\ket{1} $$\n",
        "\n",
        "or by re-naming the basis states\n",
        "\n",
        "$$ \\ket{u} \\rightarrow \\alpha \\ket{unmarked} + \\beta \\ket{marked}. $$"
      ]
    },
    {
      "cell_type": "markdown",
      "metadata": {
        "id": "ZSwF5hvMUzcr"
      },
      "source": [
        "#### How can we determine the amplitudes of the states $ \\ket{0} $ and $ \\ket{1} $ based on the amplitudes of the marked and unmarked elements?\n",
        "\n",
        "We can rewrite $ \\ket{u} $ as follows:\n",
        "\n",
        "$$ \\ket{u} = \\ket{u_{x}} + \\ket{u_{y}} = \\frac{\\sqrt{5}}{2\\sqrt{2}} \\myvector{\\frac{1}{\\sqrt{5}} \\\\ \\frac{1}{\\sqrt{5}}  \\\\ 0 \\\\ 0 \\\\ \\frac{1}{\\sqrt{5}} \\\\ \\frac{1}{\\sqrt{5}}  \\\\ 0 \\\\ \\frac{1}{\\sqrt{5}} } + \\frac{\\sqrt{3}}{2\\sqrt{2}}  \\myvector{0 \\\\ 0 \\\\ \\frac{1}{\\sqrt{3}}  \\\\ \\frac{1}{\\sqrt{3}}  \\\\ 0 \\\\ 0 \\\\ \\frac{1}{\\sqrt{3}}  \\\\ 0}\n",
        "= \\frac{\\sqrt{5}}{2\\sqrt{2}} \\ket{unmarked} + \\frac{\\sqrt{3}}{2\\sqrt{2}} \\ket{marked},\n",
        "$$\n",
        "\n",
        "where both $ \\ket{unmarked} $ and $ \\ket{marked} $ are unit vectors and orthogonal to each other.\n",
        "\n",
        "Thus, we can represent $ \\ket{u} $ on the unit circle by the following conversion:\n",
        "\n",
        "$$\n",
        "    \\ket{u} = \\frac{\\sqrt{5}}{2\\sqrt{2}} \\ket{unmarked} + \\frac{\\sqrt{3}}{2\\sqrt{2}} \\ket{marked} \\xrightarrow{~~~~\\mbox{unit circle}~~~~}\n",
        "    \\frac{\\sqrt{5}}{2\\sqrt{2}} \\ket{0} + \\frac{\\sqrt{3}}{2\\sqrt{2}} \\ket{1}.\n",
        "$$\n",
        "\n",
        "We draw the obtained unit circle by using python below."
      ]
    },
    {
      "cell_type": "code",
      "execution_count": null,
      "metadata": {
        "id": "8g1oUa8WUzcr",
        "colab": {
          "base_uri": "https://localhost:8080/",
          "height": 384
        },
        "outputId": "1e628e1f-e353-40d3-ed08-49f77f4f3241"
      },
      "outputs": [
        {
          "output_type": "display_data",
          "data": {
            "text/plain": [
              "<Figure size 640x480 with 0 Axes>"
            ]
          },
          "metadata": {}
        },
        {
          "output_type": "display_data",
          "data": {
            "text/plain": [
              "<Figure size 420x420 with 1 Axes>"
            ],
            "image/png": "[encoded data removed]"
          },
          "metadata": {}
        }
      ],
      "source": [
        "quantum_file = path_files+\"quantum.py\"\n",
        "%run $quantum_file\n",
        "\n",
        "draw_qubit_grover()\n",
        "draw_quantum_state((5/8)**0.5,(3/8)**0.5,\"|u>\")\n",
        "show_plt()"
      ]
    },
    {
      "cell_type": "markdown",
      "metadata": {
        "id": "RcmYt1NIUzcr"
      },
      "source": [
        "#### The amplitudes of $ \\ket{marked} $ and $ \\ket{unmarked} $ during the computation\n",
        "\n",
        "Remark that, after each phase of Grover's algorithm, the entries of $ \\ket{marked} $ and $ \\ket{unmarked} $ do not change (see also below).\n",
        "\n",
        "Any quantum state during the computation of Grover's algorithm can be represented, for some $ a,b $, as\n",
        "\n",
        "$$ \\ket{u_j} = \\ket{u_{j,x}} + \\ket{u_{j,y}} = \\myvector{ a \\\\ a  \\\\ 0 \\\\ 0 \\\\ a \\\\ a  \\\\ 0 \\\\ a } +  \\myvector{0 \\\\ 0 \\\\b \\\\ b  \\\\ 0 \\\\ 0 \\\\ b  \\\\ 0} =\n",
        "a \\sqrt{5} \\myvector{\\frac{1}{\\sqrt{5}} \\\\ \\frac{1}{\\sqrt{5}}  \\\\ 0 \\\\ 0 \\\\ \\frac{1}{\\sqrt{5}} \\\\ \\frac{1}{\\sqrt{5}}  \\\\ 0 \\\\ \\frac{1}{\\sqrt{5}} } + b \\sqrt{3} \\myvector{0 \\\\ 0 \\\\ \\frac{1}{\\sqrt{3}}  \\\\ \\frac{1}{\\sqrt{3}}  \\\\ 0 \\\\ 0 \\\\ \\frac{1}{\\sqrt{3}}  \\\\ 0} = a\\sqrt{5} ~ \\ket{unmarked} + b\\sqrt{3} ~ \\ket{marked}.\n",
        "$$\n",
        "\n",
        "As a generic rule:\n",
        "\n",
        "For $ N $ elements with $ k $ marked ones, if the amplitudes of an unmarked and a marked elements are $ a $ and $ b $, respectively, then the quantum state can be represented as\n",
        "\n",
        "$$ a\\sqrt{N-k} ~ \\ket{unmarked} + b \\sqrt{k} ~ \\ket{marked}. $$"
      ]
    },
    {
      "cell_type": "markdown",
      "metadata": {
        "id": "HRmhpilAUzcr"
      },
      "source": [
        "## Visualization of Grover's Search algorithm\n",
        "\n",
        "In this section, we execute Grover's search algorithm by using the modified game explained in notebook [Inversion About the Mean](https://colab.research.google.com/drive/1akK_HuiyisvbBex09cLNwe0yUP9ncwEn?usp=sharing).\n",
        "\n",
        "You may use your functions *oracle* and *inversion* in [Task 2](https://colab.research.google.com/drive/1akK_HuiyisvbBex09cLNwe0yUP9ncwEn?usp=sharing&authuser=6#scrollTo=dLrnubCxM2mI) in the same notebook.\n",
        "\n",
        "*For simplicity, we assume that the first element is always marked and the last element is always unmarked.*"
      ]
    },
    {
      "cell_type": "markdown",
      "metadata": {
        "id": "_1O8TbW8Uzcs"
      },
      "source": [
        "<h3> Task 1 </h3>\n",
        "\n",
        "Execute Grover's search algorithm for 5 steps where $ N = 16 $ and the first element is marked.\n",
        "\n",
        "Draw all quantum states on the unit circle during the execution.\n",
        "\n",
        "Print the angle of each state in degree (use $\\sin^{-1}$), and check whether there is any pattern for the oracle and inversion operators?\n",
        "\n",
        "Is there any pattern for each step of Grover's algorithm?"
      ]
    },
    {
      "cell_type": "code",
      "execution_count": null,
      "metadata": {
        "id": "fgNdtuWRUzcs"
      },
      "outputs": [],
      "source": [
        "def query(elements=[1],marked_elements=[0]):\n",
        "    for i in marked_elements:\n",
        "        elements[i] = -1 * elements[i]\n",
        "    return elements\n",
        "\n",
        "def inversion (elements=[1]):\n",
        "    # summation of all values\n",
        "    summation = 0\n",
        "    for i in range(len(elements)):\n",
        "        summation += elements[i]\n",
        "\n",
        "    # mean of all values\n",
        "    mean = summation / len(elements)\n",
        "\n",
        "    # reflection over mean\n",
        "    for i in range(len(elements)):\n",
        "        value = elements[i]\n",
        "        new_value = mean - (elements[i]-mean)\n",
        "        elements[i] = new_value\n",
        "    return elements"
      ]
    },
    {
      "cell_type": "code",
      "execution_count": null,
      "metadata": {
        "id": "IkQm9MnBUzcs",
        "colab": {
          "base_uri": "https://localhost:8080/",
          "height": 593
        },
        "outputId": "3bf33b3f-2197-4d09-f262-a71087498fab"
      },
      "outputs": [
        {
          "output_type": "display_data",
          "data": {
            "text/plain": [
              "<Figure size 640x480 with 0 Axes>"
            ]
          },
          "metadata": {}
        },
        {
          "output_type": "display_data",
          "data": {
            "text/plain": [
              "<Figure size 420x420 with 1 Axes>"
            ],
            "image/png": "[encoded data removed]"
          },
          "metadata": {}
        },
        {
          "output_type": "stream",
          "name": "stdout",
          "text": [
            "angles in degree\n",
            "14.477512185929923\n",
            "-14.477512185929923\n",
            "43.432536557789774\n",
            "-43.432536557789774\n",
            "72.38756092964962\n",
            "-72.38756092964962\n",
            "78.65741469849054\n",
            "-78.65741469849054\n",
            "49.702390326630685\n",
            "-49.702390326630685\n",
            "20.74736595477084\n"
          ]
        }
      ],
      "source": [
        "from math import asin, pi\n",
        "\n",
        "# initial values\n",
        "iteration = 5\n",
        "N = 16\n",
        "marked_elements = [0]\n",
        "k = len(marked_elements)\n",
        "elements = []\n",
        "states_on_unit_circle= []\n",
        "\n",
        "# initial quantum state\n",
        "for i in range(N):\n",
        "    elements.append(1/N**0.5)\n",
        "\n",
        "x = elements[N-1] * ((N-k)**0.5)\n",
        "y = elements[0] * (k**0.5)\n",
        "states_on_unit_circle.append([x,y,\"0\"])\n",
        "\n",
        "#\n",
        "# your code is here\n",
        "#\n",
        "for step in range(iteration):\n",
        "    # query\n",
        "    elements = query(elements,marked_elements)\n",
        "    x = elements[N-1] * ((N-k)**0.5)\n",
        "    y = elements[0] * (k**0.5)\n",
        "    states_on_unit_circle.append([x,y,str(step)+\"'\"])\n",
        "    # inversion\n",
        "    elements = inversion(elements)\n",
        "    x = elements[N-1] * ((N-k)**0.5)\n",
        "    y = elements[0] * (k**0.5)\n",
        "    states_on_unit_circle.append([x,y,str(step+1)])\n",
        "\n",
        "# draw all states\n",
        "\n",
        "quantum_file = path_files+\"quantum.py\"\n",
        "%run $quantum_file\n",
        "\n",
        "draw_qubit_grover()\n",
        "for state in states_on_unit_circle:\n",
        "    draw_quantum_state(state[0],state[1],state[2])\n",
        "show_plt()\n",
        "\n",
        "# print the angles\n",
        "print(\"angles in degree\")\n",
        "for state in states_on_unit_circle:\n",
        "    print(asin(state[1])/pi*180)"
      ]
    },
    {
      "cell_type": "markdown",
      "metadata": {
        "id": "NoR_VLgiUzcs"
      },
      "source": [
        "To check out our solution, run the next cell:"
      ]
    },
    {
      "cell_type": "code",
      "execution_count": null,
      "metadata": {
        "id": "cBlKtmD7Uzcs"
      },
      "outputs": [],
      "source": [
        "SolutionToTask1()  # show solution for task 1"
      ]
    },
    {
      "cell_type": "markdown",
      "metadata": {
        "id": "9BYxbYOhUzcs"
      },
      "source": [
        "<h3> Task 2 </h3>\n",
        "\n",
        "In Task 1, after which step the probability of observing a marked element is the highest?\n",
        "\n",
        " As can be verified from the angles, after the third step, the probability of observing a marking element is the highest."
      ]
    },
    {
      "cell_type": "markdown",
      "metadata": {
        "id": "pHPUUsSKUzcs"
      },
      "source": [
        "To check out our solution, run the next cell:"
      ]
    },
    {
      "cell_type": "code",
      "execution_count": null,
      "metadata": {
        "id": "eZfDdHVfUzcs"
      },
      "outputs": [],
      "source": [
        "SolutionToTask2()  # show solution for task 2"
      ]
    },
    {
      "cell_type": "markdown",
      "metadata": {
        "id": "Ig0mfVLBUzcs"
      },
      "source": [
        "<h3> Task 3 </h3>\n",
        "\n",
        "We have a list of size $ N = 128 $. We iterate Grover's search algorithm 10 steps.\n",
        "\n",
        "Visually determine (i.e., Tasks 1 & 2) the good number of iterations if the number of marked elements is 1, 2, 4, or 8. (The quantum state on the unit circle should be close to the $y$-axis.)"
      ]
    },
    {
      "cell_type": "code",
      "execution_count": null,
      "metadata": {
        "id": "xzK2AkSFUzcs"
      },
      "outputs": [],
      "source": [
        "def query(elements=[1],marked_elements=[0]):\n",
        "    for i in marked_elements:\n",
        "        elements[i] = -1 * elements[i]\n",
        "    return elements\n",
        "\n",
        "def inversion (elements=[1]):\n",
        "    # summation of all values\n",
        "    summation = 0\n",
        "    for i in range(len(elements)):\n",
        "        summation += elements[i]\n",
        "\n",
        "    # mean of all values\n",
        "    mean = summation / len(elements)\n",
        "\n",
        "    # reflection over mean\n",
        "    for i in range(len(elements)):\n",
        "        value = elements[i]\n",
        "        new_value = mean - (elements[i]-mean)\n",
        "        elements[i] = new_value\n",
        "    return elements"
      ]
    },
    {
      "cell_type": "code",
      "execution_count": null,
      "metadata": {
        "id": "rFZKM0awUzcs",
        "colab": {
          "base_uri": "https://localhost:8080/",
          "height": 766
        },
        "outputId": "0c6254d5-1d50-4e1b-9a9d-4ac9ddc31557"
      },
      "outputs": [
        {
          "output_type": "display_data",
          "data": {
            "text/plain": [
              "<Figure size 640x480 with 0 Axes>"
            ]
          },
          "metadata": {}
        },
        {
          "output_type": "display_data",
          "data": {
            "text/plain": [
              "<Figure size 420x420 with 1 Axes>"
            ],
            "image/png": "[encoded data removed]"
          },
          "metadata": {}
        },
        {
          "output_type": "stream",
          "name": "stdout",
          "text": [
            "angles in degree\n",
            "5.070896682839932\n",
            "-5.070896682839932\n",
            "15.212690048519809\n",
            "-15.212690048519809\n",
            "25.354483414199702\n",
            "-25.354483414199702\n",
            "35.496276779879594\n",
            "-35.496276779879594\n",
            "45.638070145559475\n",
            "-45.638070145559475\n",
            "55.77986351123941\n",
            "-55.77986351123941\n",
            "65.9216568769194\n",
            "-65.9216568769194\n",
            "76.06345024259953\n",
            "-76.06345024259953\n",
            "86.2052436082811\n",
            "-86.2052436082811\n",
            "83.6529630260427\n",
            "-83.6529630260427\n",
            "73.51116966036199\n"
          ]
        }
      ],
      "source": [
        "from math import asin, pi\n",
        "\n",
        "# initial values\n",
        "iteration = 10\n",
        "N = 128\n",
        "marked_elements = [0]\n",
        "#marked_elements = [0,1]\n",
        "#marked_elements = [0,1,2,3]\n",
        "#marked_elements = [0,1,2,3,4,5,6,7]\n",
        "k = len(marked_elements)\n",
        "elements = []\n",
        "states_on_unit_circle= []\n",
        "\n",
        "# initial quantum state\n",
        "for i in range(N):\n",
        "    elements.append(1/N**0.5)\n",
        "\n",
        "\n",
        "x = elements[N-1] * ((N-k)**0.5)\n",
        "y = elements[0] * (k**0.5)\n",
        "states_on_unit_circle.append([x,y,\"0\"])\n",
        "\n",
        "# Execute Grover's search algorithm for $iteration steps\n",
        "for step in range(iteration):\n",
        "    # query\n",
        "    elements = query(elements,marked_elements)\n",
        "    x = elements[N-1] * ((N-k)**0.5)\n",
        "    y = elements[0] * (k**0.5)\n",
        "    states_on_unit_circle.append([x,y,str(step)+\"''\"])\n",
        "    # inversion\n",
        "    elements = inversion(elements)\n",
        "    x = elements[N-1] * ((N-k)**0.5)\n",
        "    y = elements[0] * (k**0.5)\n",
        "    states_on_unit_circle.append([x,y,str(step+1)])\n",
        "\n",
        "# draw all states\n",
        "\n",
        "quantum_file = path_files+\"quantum.py\"\n",
        "%run $quantum_file\n",
        "\n",
        "draw_qubit_grover()\n",
        "for state in states_on_unit_circle:\n",
        "    draw_quantum_state(state[0],state[1],state[2])\n",
        "show_plt()\n",
        "\n",
        "# print the angles\n",
        "print(\"angles in degree\")\n",
        "for state in states_on_unit_circle:\n",
        "    print(asin(state[1])/pi*180)"
      ]
    },
    {
      "cell_type": "markdown",
      "metadata": {
        "id": "9zJHB74PUzcs"
      },
      "source": [
        "To check out our solution, run the next cell:"
      ]
    },
    {
      "cell_type": "code",
      "execution_count": null,
      "metadata": {
        "id": "pxBbi4wjUzct"
      },
      "outputs": [],
      "source": [
        "SolutionToTask3()  # show solution for task 3"
      ]
    },
    {
      "cell_type": "markdown",
      "metadata": {
        "id": "cIWHZ92sUzct"
      },
      "source": [
        "<h3> Task 4 </h3>\n",
        "\n",
        "We have a list of size $ N = 256 $. We iterate Grover's search algorithm 20 (or 10) steps.\n",
        "\n",
        "Visually determine (i.e., Tasks 1 & 2) the good number of iterations if the number of marked elements is 1, 2, 4, or 8. (The quantum state on the unit circle should be close to the $y$-axis.)"
      ]
    },
    {
      "cell_type": "code",
      "execution_count": null,
      "metadata": {
        "id": "9lH-bwHoUzct"
      },
      "outputs": [],
      "source": [
        "def query(elements=[1],marked_elements=[0]):\n",
        "    for i in marked_elements:\n",
        "        elements[i] = -1 * elements[i]\n",
        "    return elements\n",
        "\n",
        "def inversion (elements=[1]):\n",
        "    # summation of all values\n",
        "    summation = 0\n",
        "    for i in range(len(elements)):\n",
        "        summation += elements[i]\n",
        "\n",
        "    # mean of all values\n",
        "    mean = summation / len(elements)\n",
        "\n",
        "    # reflection over mean\n",
        "    for i in range(len(elements)):\n",
        "        value = elements[i]\n",
        "        new_value = mean - (elements[i]-mean)\n",
        "        elements[i] = new_value\n",
        "    return elements"
      ]
    },
    {
      "cell_type": "code",
      "execution_count": null,
      "metadata": {
        "id": "4mV88SsnUzct",
        "colab": {
          "base_uri": "https://localhost:8080/",
          "height": 1000
        },
        "outputId": "d9706df8-9b05-4341-d7b6-5699a8e68f06"
      },
      "outputs": [
        {
          "output_type": "display_data",
          "data": {
            "text/plain": [
              "<Figure size 640x480 with 0 Axes>"
            ]
          },
          "metadata": {}
        },
        {
          "output_type": "display_data",
          "data": {
            "text/plain": [
              "<Figure size 420x420 with 1 Axes>"
            ],
            "image/png": "[encoded data removed]"
          },
          "metadata": {}
        },
        {
          "output_type": "stream",
          "name": "stdout",
          "text": [
            "angles in degree\n",
            "3.583321698471973\n",
            "-3.583321698471973\n",
            "10.749965095415918\n",
            "-10.749965095415918\n",
            "17.916608492359867\n",
            "-17.916608492359867\n",
            "25.08325188930381\n",
            "-25.08325188930381\n",
            "32.24989528624776\n",
            "-32.24989528624776\n",
            "39.41653868319171\n",
            "-39.41653868319171\n",
            "46.58318208013565\n",
            "-46.58318208013565\n",
            "53.7498254770796\n",
            "-53.7498254770796\n",
            "60.916468874023536\n",
            "-60.916468874023536\n",
            "68.08311227096745\n",
            "-68.08311227096745\n",
            "75.2497556679113\n",
            "-75.2497556679113\n",
            "82.41639906485496\n",
            "-82.41639906485496\n",
            "89.58304246178932\n",
            "-89.58304246178932\n",
            "83.25031414125607\n",
            "-83.25031414125607\n",
            "76.08367074431253\n",
            "-76.08367074431253\n",
            "68.91702734736872\n",
            "-68.91702734736872\n",
            "61.750383950424855\n",
            "-61.750383950424855\n",
            "54.583740553480936\n",
            "-54.583740553480936\n",
            "47.417097156536975\n",
            "-47.417097156536975\n",
            "40.25045375959301\n",
            "-40.25045375959301\n",
            "33.08381036264909\n"
          ]
        }
      ],
      "source": [
        "from math import asin, pi\n",
        "\n",
        "# initial values\n",
        "iteration = 20\n",
        "N = 256\n",
        "marked_elements = [0]\n",
        "#marked_elements = [0,1]\n",
        "#marked_elements = [0,1,2,3]\n",
        "#marked_elements = [0,1,2,3,4,5,6,7]\n",
        "k = len(marked_elements)\n",
        "elements = []\n",
        "states_on_unit_circle= []\n",
        "\n",
        "# initial quantum state\n",
        "for i in range(N):\n",
        "    elements.append(1/N**0.5)\n",
        "\n",
        "\n",
        "x = elements[N-1] * ((N-k)**0.5)\n",
        "y = elements[0] * (k**0.5)\n",
        "states_on_unit_circle.append([x,y,\"0\"])\n",
        "\n",
        "# Execute Grover's search algorithm for $iteration steps\n",
        "for step in range(iteration):\n",
        "    # query\n",
        "    elements = query(elements,marked_elements)\n",
        "    x = elements[N-1] * ((N-k)**0.5)\n",
        "    y = elements[0] * (k**0.5)\n",
        "    states_on_unit_circle.append([x,y,str(step)+\"''\"])\n",
        "    # inversion\n",
        "    elements = inversion(elements)\n",
        "    x = elements[N-1] * ((N-k)**0.5)\n",
        "    y = elements[0] * (k**0.5)\n",
        "    states_on_unit_circle.append([x,y,str(step+1)])\n",
        "\n",
        "# draw all states\n",
        "\n",
        "quantum_file = path_files+\"quantum.py\"\n",
        "%run $quantum_file\n",
        "\n",
        "draw_qubit_grover()\n",
        "for state in states_on_unit_circle:\n",
        "    draw_quantum_state(state[0],state[1],state[2])\n",
        "show_plt()\n",
        "\n",
        "# print the angles\n",
        "print(\"angles in degree\")\n",
        "for state in states_on_unit_circle:\n",
        "    print(asin(state[1])/pi*180)"
      ]
    },
    {
      "cell_type": "markdown",
      "source": [
        "Observations\n",
        "The good number of iterations\n",
        "\n",
        "\n",
        "*   For k=1, 12 iterations\n",
        "*   For k=2, 8 iterations\n",
        "*   For k=4, 6 iterations\n",
        "*   For k=8, 4 iterations\n",
        "\n"
      ],
      "metadata": {
        "id": "bVnL3aWeEa2p"
      }
    },
    {
      "cell_type": "markdown",
      "metadata": {
        "id": "zi7Y3157Uzct"
      },
      "source": [
        "To check out our solution, run the next cell:"
      ]
    },
    {
      "cell_type": "code",
      "execution_count": null,
      "metadata": {
        "id": "Bru6RqIHUzct"
      },
      "outputs": [],
      "source": [
        "SolutionToTask4()  # show solution for task 4"
      ]
    },
    {
      "cell_type": "markdown",
      "metadata": {
        "id": "-twc3AyZUzct"
      },
      "source": [
        "## More on Grover's search algorithm\n",
        "\n",
        "The idea behind Grover's search algorithm is that\n",
        "<ul>\n",
        "    <li> the amplitudes of the marked (less frequent) elements can be quickly amplified, </li>\n",
        "    <li> and so the probability of observing one of the marked elements quickly approches to 1.</li>\n",
        "</ul>\n",
        "\n",
        "For \"quick\" amplification, we iteratively apply two reflections to our quantum states.\n",
        "\n",
        "The first reflection is a clockwise rotation, and the second reflection is a counterclockwise rotation.\n",
        "\n",
        "The second reflection always rotates $ 2 \\theta $ degree more than the first reflection, where the $ \\theta $ is the angle of this initial state on the unit circle.\n",
        "\n",
        "Therefore, the quantum state is rotated by $ 2 \\theta $ in counter-clockwise direction after two reflections."
      ]
    },
    {
      "cell_type": "markdown",
      "metadata": {
        "id": "clHNRF3sUzct"
      },
      "source": [
        "### Example Reflections\n",
        "\n",
        "We closely look at the initial part of Task 1 by explictly drawing the reflection lines.\n",
        "\n",
        "Suppose that we have 16 elements and one of them is marked.\n",
        "\n",
        "**Below we draw the first reflection line with green color and the second reflection line with yellow color.**"
      ]
    },
    {
      "cell_type": "code",
      "execution_count": null,
      "metadata": {
        "id": "pLkF91DEUzct"
      },
      "outputs": [],
      "source": [
        "quantum_file = path_files+\"quantum.py\"\n",
        "%run $quantum_file\n",
        "\n",
        "import matplotlib.pyplot as plt\n",
        "draw_qubit_grover()\n",
        "plt.arrow(-1.2587,-0.325,2*1.2587,0.65,color=\"y\",width=0.004)\n",
        "plt.arrow(-1.3,0,2.6,0,color=\"g\",width=0.004)\n",
        "show_plt()"
      ]
    },
    {
      "cell_type": "markdown",
      "metadata": {
        "id": "B-Y1i0oeUzct"
      },
      "source": [
        "**After the Hadamard operators, we start with the following state.**"
      ]
    },
    {
      "cell_type": "code",
      "execution_count": null,
      "metadata": {
        "id": "AdAGZhCjUzct"
      },
      "outputs": [],
      "source": [
        "quantum_file = path_files+\"quantum.py\"\n",
        "%run $quantum_file\n",
        "\n",
        "import matplotlib.pyplot as plt\n",
        "draw_qubit_grover()\n",
        "plt.arrow(-1.2587,-0.325,2*1.2587,0.65,color=\"y\",width=0.004)\n",
        "plt.arrow(-1.3,0,2.6,0,color=\"g\",width=0.004)\n",
        "draw_quantum_state((15/16)**0.5,(1/16)**0.5,\"$|u_0>$\")\n",
        "show_plt()"
      ]
    },
    {
      "cell_type": "markdown",
      "metadata": {
        "id": "-k8zr6qQUzct"
      },
      "source": [
        "**Iteration 1, after the first reflection:**"
      ]
    },
    {
      "cell_type": "code",
      "execution_count": null,
      "metadata": {
        "id": "OHLdUqvwUzct"
      },
      "outputs": [],
      "source": [
        "quantum_file = path_files+\"quantum.py\"\n",
        "%run $quantum_file\n",
        "\n",
        "import matplotlib.pyplot as plt\n",
        "draw_qubit_grover()\n",
        "plt.arrow(-1.2587,-0.325,2*1.2587,0.65,color=\"y\",width=0.004)\n",
        "plt.arrow(-1.3,0,2.6,0,color=\"g\",width=0.004)\n",
        "draw_quantum_state((15/16)**0.5,(1/16)**0.5,\"$|u_0>$\")\n",
        "draw_quantum_state((15/16)**0.5,-(1/16)**0.5,\"$|u'_0>$\")\n",
        "show_plt()"
      ]
    },
    {
      "cell_type": "markdown",
      "metadata": {
        "id": "zrRLMMmzUzcu"
      },
      "source": [
        "**Iteration 1, after the second reflection:**"
      ]
    },
    {
      "cell_type": "code",
      "execution_count": null,
      "metadata": {
        "id": "Mzn6mJiTUzcu"
      },
      "outputs": [],
      "source": [
        "quantum_file = path_files+\"quantum.py\"\n",
        "%run $quantum_file\n",
        "\n",
        "import matplotlib.pyplot as plt\n",
        "draw_qubit_grover()\n",
        "plt.arrow(-1.2587,-0.325,2*1.2587,0.65,color=\"y\",width=0.004)\n",
        "plt.arrow(-1.3,0,2.6,0,color=\"g\",width=0.004)\n",
        "draw_quantum_state((15/16)**0.5,-(1/16)**0.5,\"$|u'_0>$\")\n",
        "draw_quantum_state(0.7262,0.6875,\"$|u_1>$\")\n",
        "show_plt()"
      ]
    },
    {
      "cell_type": "markdown",
      "metadata": {
        "id": "MMwE7x6VUzcu"
      },
      "source": [
        "**Iteration 2, after the first reflection:**"
      ]
    },
    {
      "cell_type": "code",
      "execution_count": null,
      "metadata": {
        "id": "t1jkzbfdUzcu"
      },
      "outputs": [],
      "source": [
        "quantum_file = path_files+\"quantum.py\"\n",
        "%run $quantum_file\n",
        "\n",
        "import matplotlib.pyplot as plt\n",
        "draw_qubit_grover()\n",
        "plt.arrow(-1.2587,-0.325,2*1.2587,0.65,color=\"y\",width=0.004)\n",
        "plt.arrow(-1.3,0,2.6,0,color=\"g\",width=0.004)\n",
        "draw_quantum_state(0.7262,0.6875,\"$|u_1>$\")\n",
        "draw_quantum_state(0.7262,-0.6875,\"$|u'_1>$\")\n",
        "show_plt()"
      ]
    },
    {
      "cell_type": "markdown",
      "metadata": {
        "id": "U7fhtIdvUzcu"
      },
      "source": [
        "**Iteration 2, after the second reflection:**"
      ]
    },
    {
      "cell_type": "code",
      "execution_count": null,
      "metadata": {
        "id": "3cNScVTnUzcu"
      },
      "outputs": [],
      "source": [
        "quantum_file = path_files+\"quantum.py\"\n",
        "%run $quantum_file\n",
        "\n",
        "import matplotlib.pyplot as plt\n",
        "draw_qubit_grover()\n",
        "plt.arrow(-1.2587,-0.325,2*1.2587,0.65,color=\"y\",width=0.004)\n",
        "plt.arrow(-1.3,0,2.6,0,color=\"g\",width=0.004)\n",
        "draw_quantum_state(0.7262,-0.6875,\"$|u'_1>$\")\n",
        "draw_quantum_state(0.3026,0.9531,\"$|u_2>$\")\n",
        "show_plt()"
      ]
    },
    {
      "cell_type": "markdown",
      "metadata": {
        "id": "u4KSTi3aUzcu"
      },
      "source": [
        "### When to Stop\n",
        "\n",
        "When iterating Grover's search algorithm, we should be careful when to stop.\n",
        "<ul>\n",
        "    <li> Because, after hitting a maximum value, these amplitudes start to quickly decrease, and after hitting a minimum value, they are amplified again, and so on.</li>\n",
        "</ul>\n",
        "\n",
        "As a trivial example, we consider the rotation on the unit circle with angle $ \\frac{\\pi}{8} $ that starts in $ \\ket{0} $.\n",
        "\n",
        "- After every 4 rotations, we visit states $ \\ket{1} $, $ -\\ket{0} $, $ -\\ket{1} $, again $ \\ket{0} $, and so on.\n",
        "- Remark that the probability of observing the state $ \\ket{1} $ oscillates between 0 and 1 while rotating.\n"
      ]
    },
    {
      "cell_type": "markdown",
      "metadata": {
        "id": "M6rpJ5hWUzcu"
      },
      "source": [
        "<h3> The number of iterations </h3>\n",
        "\n",
        "If there is a single marked element in a list of size $ N $, then $ \\pi \\dfrac{\\sqrt{N}}{4} $ iterations can give the marked element with high probability.\n",
        "\n",
        "If there are $k$ marked elements, then it is better to iterate $ \\pi \\dfrac{\\sqrt{\\frac{N}{k}}}{4} $ times.\n",
        "\n",
        "If $k$ is unknown, then we can execute the algorithm with different iterations. One way of doing this is to iterate the algorithm  \n",
        "<br>\n",
        "$ \\pi \\dfrac{\\sqrt{\\frac{N}{1}}}{4}, \\pi \\dfrac{\\sqrt{\\frac{N}{2}}}{4}, \\pi \\dfrac{\\sqrt{\\frac{N}{4}}}{4}, \\pi \\dfrac{\\sqrt{\\frac{N}{8}}}{4}, \\ldots $ times.\n",
        "\n",
        "The total number of iterations will still be proportional to $ \\pi \\dfrac{\\sqrt{N}}{4} $: $ O \\Big( \\pi \\dfrac{\\sqrt{N}}{4} \\Big) $.\n"
      ]
    },
    {
      "cell_type": "markdown",
      "metadata": {
        "id": "6EvGMFOVUzcu"
      },
      "source": [
        "### Mathematical derivation of the reflection by inversion (optional)\n",
        "\n",
        "_(You will see a similar but alternative derivation in the next notebook.)_\n",
        "\n",
        "It is clear that query operators reflect the quantum state on the unit circle over $ x $-axis.\n",
        "\n",
        "On the other hand, the inversion operator reflects the quantum state on the unit circle over the line defined by the initial state, say $ \\ket{u} $. This fact is not so obvious and we present here how to derive it. ($ \\bra{u} $ is the conjugate transpose of the vector $ \\ket{u} $.)\n",
        "\n",
        "The initial quantum state is $ \\ket{u} = \\myvector{\\frac{1}{\\sqrt{N}} \\\\ \\vdots \\\\ \\frac{1}{\\sqrt{N}}}$ and the inversion is a linear operator and represented by the matrix:\n",
        "\n",
        "$$ D = 2 \\mymatrix{ccc}{\n",
        "    \\frac{1}{N}  & \\cdots & \\frac{1}{N} \\\\\n",
        "    \\vdots & \\ddots & \\vdots \\\\\n",
        "    \\frac{1}{N}  & \\cdots & \\frac{1}{N} \\\\\n",
        "    }\n",
        "- I . $$\n",
        "\n",
        "Since $ \\ket{u} \\bra{u} = \\mymatrix{ccc}{\n",
        "    \\frac{1}{N}  & \\cdots & \\frac{1}{N} \\\\\n",
        "    \\vdots & \\ddots & \\vdots \\\\\n",
        "    \\frac{1}{N}  & \\cdots & \\frac{1}{N} \\\\\n",
        "    } $, we can represent $ D $ in terms of $ \\ket{u} $ as $ D = 2 \\ket{u} \\bra{u} - I$.\n",
        "    \n",
        "Let our current quantum state be $a \\ket{u} + b \\ket{u^\\perp}$, where $\\ket{u^\\perp}$ denotes the state, which is orthogonal (perpendicular) to $\\ket{u}$. After applying $D$ to our current quantum state, we obtain\n",
        "\n",
        "$$D \\big(a \\ket{u} + b \\ket{u^\\perp}\\big) = \\big(2 \\ket{u} \\bra{u} - I \\big) \\big(a \\ket{u} + b \\ket{u^\\perp} \\big) = a \\big(2 \\ket{u} \\bra{u} \\ket{u} - \\ket{u} \\big) + b \\big(2 \\ket{u} \\bra{u} \\ket{u^\\perp} - \\ket{u^\\perp} \\big). $$\n",
        "\n",
        "To simplify this equation, we use the following two facts:\n",
        "\n",
        "- $\\bra{u} \\ket{u} = 1$, because the inner product of a quantum state gives its length square, which is equal to 1;\n",
        "- $\\bra{u} \\ket{u^\\perp} = 0$, because the states are orthogonal to each other.\n",
        "\n",
        "$$ a \\big( 2 \\ket{u} \\bra{u} \\ket{u} - \\ket{u} \\big) + b \\big( 2 \\ket{u} \\bra{u} \\ket{u^\\perp} - \\ket{u^\\perp} \\big) = a \\big( 2 \\ket{u} - \\ket{u} \\big) + b \\big( 2 \\ket{u} \\cdot 0 - \\ket{u^\\perp} \\big) = a \\ket{u} - b \\ket{u^\\perp}. $$\n",
        "\n",
        "As $D (a \\ket{u} + b \\ket{u^\\perp}) = a \\ket{u} - b \\ket{u^\\perp}$, we conclude that $D$ is a reflection over axis formed by the state $\\ket{u}$."
      ]
    }
  ],
  "metadata": {
    "kernelspec": {
      "display_name": "Python 3 (ipykernel)",
      "language": "python",
      "name": "python3"
    },
    "language_info": {
      "codemirror_mode": {
        "name": "ipython",
        "version": 3
      },
      "file_extension": ".py",
      "mimetype": "text/x-python",
      "name": "python",
      "nbconvert_exporter": "python",
      "pygments_lexer": "ipython3",
      "version": "3.11.4"
    },
    "colab": {
      "provenance": [],
      "collapsed_sections": [
        "37-KekcJUzcq"
      ],
      "include_colab_link": true
    }
  },
  "nbformat": 4,
  "nbformat_minor": 0
}
